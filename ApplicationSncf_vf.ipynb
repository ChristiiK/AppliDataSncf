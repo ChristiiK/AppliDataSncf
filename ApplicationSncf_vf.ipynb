{
 "cells": [
  {
   "cell_type": "markdown",
   "metadata": {},
   "source": [
    "# Test data science"
   ]
  },
  {
   "cell_type": "markdown",
   "metadata": {},
   "source": [
    "##Importation des librairies"
   ]
  },
  {
   "cell_type": "code",
   "execution_count": 1,
   "metadata": {},
   "outputs": [],
   "source": [
    "import numpy as np\n",
    "import matplotlib.pyplot as plt\n",
    "import pandas as pd\n",
    "import seaborn as sns"
   ]
  },
  {
   "cell_type": "code",
   "execution_count": 2,
   "metadata": {},
   "outputs": [],
   "source": [
    "df = pd.read_excel(\"C:/Users/KOUADIO Christiane/Documents/Traitement_données/donnees_sncf.xlsx\")"
   ]
  },
  {
   "cell_type": "code",
   "execution_count": 3,
   "metadata": {},
   "outputs": [
    {
     "data": {
      "text/html": [
       "<div>\n",
       "<style scoped>\n",
       "    .dataframe tbody tr th:only-of-type {\n",
       "        vertical-align: middle;\n",
       "    }\n",
       "\n",
       "    .dataframe tbody tr th {\n",
       "        vertical-align: top;\n",
       "    }\n",
       "\n",
       "    .dataframe thead th {\n",
       "        text-align: right;\n",
       "    }\n",
       "</style>\n",
       "<table border=\"1\" class=\"dataframe\">\n",
       "  <thead>\n",
       "    <tr style=\"text-align: right;\">\n",
       "      <th></th>\n",
       "      <th>JOUR</th>\n",
       "      <th>CODE_STIF_TRNS</th>\n",
       "      <th>CODE_STIF_RES</th>\n",
       "      <th>CODE_STIF_ARRET</th>\n",
       "      <th>LIBELLE_ARRET</th>\n",
       "      <th>ID_REFA_LDA</th>\n",
       "      <th>CATEGORIE_TITRE</th>\n",
       "      <th>NB_VALD</th>\n",
       "    </tr>\n",
       "  </thead>\n",
       "  <tbody>\n",
       "    <tr>\n",
       "      <th>0</th>\n",
       "      <td>2019-01-14</td>\n",
       "      <td>800</td>\n",
       "      <td>854</td>\n",
       "      <td>82</td>\n",
       "      <td>BOIS-COLOMBES</td>\n",
       "      <td>72179.0</td>\n",
       "      <td>IMAGINE R</td>\n",
       "      <td>907</td>\n",
       "    </tr>\n",
       "    <tr>\n",
       "      <th>1</th>\n",
       "      <td>2019-01-14</td>\n",
       "      <td>800</td>\n",
       "      <td>854</td>\n",
       "      <td>82</td>\n",
       "      <td>BOIS-COLOMBES</td>\n",
       "      <td>72179.0</td>\n",
       "      <td>TST</td>\n",
       "      <td>233</td>\n",
       "    </tr>\n",
       "    <tr>\n",
       "      <th>2</th>\n",
       "      <td>2019-01-14</td>\n",
       "      <td>800</td>\n",
       "      <td>854</td>\n",
       "      <td>831</td>\n",
       "      <td>SAINT-NOM-LA-BRETECHE-FORET-DE-MARLY</td>\n",
       "      <td>64382.0</td>\n",
       "      <td>AMETHYSTE</td>\n",
       "      <td>4</td>\n",
       "    </tr>\n",
       "    <tr>\n",
       "      <th>3</th>\n",
       "      <td>2019-01-14</td>\n",
       "      <td>800</td>\n",
       "      <td>854</td>\n",
       "      <td>831</td>\n",
       "      <td>SAINT-NOM-LA-BRETECHE-FORET-DE-MARLY</td>\n",
       "      <td>64382.0</td>\n",
       "      <td>NAVIGO</td>\n",
       "      <td>536</td>\n",
       "    </tr>\n",
       "    <tr>\n",
       "      <th>4</th>\n",
       "      <td>2019-01-14</td>\n",
       "      <td>800</td>\n",
       "      <td>854</td>\n",
       "      <td>831</td>\n",
       "      <td>SAINT-NOM-LA-BRETECHE-FORET-DE-MARLY</td>\n",
       "      <td>64382.0</td>\n",
       "      <td>TST</td>\n",
       "      <td>9</td>\n",
       "    </tr>\n",
       "  </tbody>\n",
       "</table>\n",
       "</div>"
      ],
      "text/plain": [
       "        JOUR  CODE_STIF_TRNS CODE_STIF_RES CODE_STIF_ARRET  \\\n",
       "0 2019-01-14             800           854              82   \n",
       "1 2019-01-14             800           854              82   \n",
       "2 2019-01-14             800           854             831   \n",
       "3 2019-01-14             800           854             831   \n",
       "4 2019-01-14             800           854             831   \n",
       "\n",
       "                          LIBELLE_ARRET  ID_REFA_LDA CATEGORIE_TITRE  NB_VALD  \n",
       "0                         BOIS-COLOMBES      72179.0       IMAGINE R      907  \n",
       "1                         BOIS-COLOMBES      72179.0             TST      233  \n",
       "2  SAINT-NOM-LA-BRETECHE-FORET-DE-MARLY      64382.0       AMETHYSTE        4  \n",
       "3  SAINT-NOM-LA-BRETECHE-FORET-DE-MARLY      64382.0          NAVIGO      536  \n",
       "4  SAINT-NOM-LA-BRETECHE-FORET-DE-MARLY      64382.0             TST        9  "
      ]
     },
     "execution_count": 3,
     "metadata": {},
     "output_type": "execute_result"
    }
   ],
   "source": [
    "# lire l'entête du data frame\n",
    "df.head()"
   ]
  },
  {
   "cell_type": "code",
   "execution_count": 4,
   "metadata": {},
   "outputs": [
    {
     "data": {
      "text/plain": [
       "(940549, 8)"
      ]
     },
     "execution_count": 4,
     "metadata": {},
     "output_type": "execute_result"
    }
   ],
   "source": [
    "# faire le point sur les variables et les observations\n",
    "df.shape"
   ]
  },
  {
   "cell_type": "code",
   "execution_count": 5,
   "metadata": {},
   "outputs": [
    {
     "data": {
      "text/html": [
       "<div>\n",
       "<style scoped>\n",
       "    .dataframe tbody tr th:only-of-type {\n",
       "        vertical-align: middle;\n",
       "    }\n",
       "\n",
       "    .dataframe tbody tr th {\n",
       "        vertical-align: top;\n",
       "    }\n",
       "\n",
       "    .dataframe thead th {\n",
       "        text-align: right;\n",
       "    }\n",
       "</style>\n",
       "<table border=\"1\" class=\"dataframe\">\n",
       "  <thead>\n",
       "    <tr style=\"text-align: right;\">\n",
       "      <th></th>\n",
       "      <th>CODE_STIF_TRNS</th>\n",
       "      <th>ID_REFA_LDA</th>\n",
       "      <th>NB_VALD</th>\n",
       "    </tr>\n",
       "  </thead>\n",
       "  <tbody>\n",
       "    <tr>\n",
       "      <th>count</th>\n",
       "      <td>940549.000000</td>\n",
       "      <td>928344.000000</td>\n",
       "      <td>940549.000000</td>\n",
       "    </tr>\n",
       "    <tr>\n",
       "      <th>mean</th>\n",
       "      <td>487.402443</td>\n",
       "      <td>71760.276284</td>\n",
       "      <td>1042.398621</td>\n",
       "    </tr>\n",
       "    <tr>\n",
       "      <th>std</th>\n",
       "      <td>349.303902</td>\n",
       "      <td>29543.625366</td>\n",
       "      <td>4039.458158</td>\n",
       "    </tr>\n",
       "    <tr>\n",
       "      <th>min</th>\n",
       "      <td>100.000000</td>\n",
       "      <td>59403.000000</td>\n",
       "      <td>4.000000</td>\n",
       "    </tr>\n",
       "    <tr>\n",
       "      <th>25%</th>\n",
       "      <td>100.000000</td>\n",
       "      <td>66659.000000</td>\n",
       "      <td>12.000000</td>\n",
       "    </tr>\n",
       "    <tr>\n",
       "      <th>50%</th>\n",
       "      <td>800.000000</td>\n",
       "      <td>71144.000000</td>\n",
       "      <td>109.000000</td>\n",
       "    </tr>\n",
       "    <tr>\n",
       "      <th>75%</th>\n",
       "      <td>800.000000</td>\n",
       "      <td>71756.000000</td>\n",
       "      <td>529.000000</td>\n",
       "    </tr>\n",
       "    <tr>\n",
       "      <th>max</th>\n",
       "      <td>810.000000</td>\n",
       "      <td>415852.000000</td>\n",
       "      <td>130809.000000</td>\n",
       "    </tr>\n",
       "  </tbody>\n",
       "</table>\n",
       "</div>"
      ],
      "text/plain": [
       "       CODE_STIF_TRNS    ID_REFA_LDA        NB_VALD\n",
       "count   940549.000000  928344.000000  940549.000000\n",
       "mean       487.402443   71760.276284    1042.398621\n",
       "std        349.303902   29543.625366    4039.458158\n",
       "min        100.000000   59403.000000       4.000000\n",
       "25%        100.000000   66659.000000      12.000000\n",
       "50%        800.000000   71144.000000     109.000000\n",
       "75%        800.000000   71756.000000     529.000000\n",
       "max        810.000000  415852.000000  130809.000000"
      ]
     },
     "execution_count": 5,
     "metadata": {},
     "output_type": "execute_result"
    }
   ],
   "source": [
    "# Description des variables numériques\n",
    "df.describe()"
   ]
  },
  {
   "cell_type": "code",
   "execution_count": 6,
   "metadata": {},
   "outputs": [],
   "source": [
    "#Supprimer certaines variables de notre data frame\n",
    "df1=df.drop(columns=['JOUR','ID_REFA_LDA','CODE_STIF_TRNS','CODE_STIF_RES','CODE_STIF_ARRET','CATEGORIE_TITRE'])"
   ]
  },
  {
   "cell_type": "code",
   "execution_count": 7,
   "metadata": {},
   "outputs": [
    {
     "data": {
      "text/plain": [
       "<bound method NDFrame.head of                                LIBELLE_ARRET  NB_VALD\n",
       "0                              BOIS-COLOMBES      907\n",
       "1                              BOIS-COLOMBES      233\n",
       "2       SAINT-NOM-LA-BRETECHE-FORET-DE-MARLY        4\n",
       "3       SAINT-NOM-LA-BRETECHE-FORET-DE-MARLY      536\n",
       "4       SAINT-NOM-LA-BRETECHE-FORET-DE-MARLY        9\n",
       "...                                      ...      ...\n",
       "940544                      LA TOUR MAUBOURG       16\n",
       "940545                      LA TOUR MAUBOURG      999\n",
       "940546                              LAUMIERE       75\n",
       "940547                              LAUMIERE        4\n",
       "940548                              LAUMIERE      632\n",
       "\n",
       "[940549 rows x 2 columns]>"
      ]
     },
     "execution_count": 7,
     "metadata": {},
     "output_type": "execute_result"
    }
   ],
   "source": [
    "df1.head"
   ]
  },
  {
   "cell_type": "markdown",
   "metadata": {},
   "source": [
    "#### Q1) Les 20 premiers arrêts en terme de validation"
   ]
  },
  {
   "cell_type": "code",
   "execution_count": 8,
   "metadata": {},
   "outputs": [
    {
     "name": "stdout",
     "output_type": "stream",
     "text": [
      "                       LIBELLE_ARRET   NB_VALD\n",
      "0            LA DEFENSE-GRANDE ARCHE  31142290\n",
      "1                       GARE DU NORD  28680379\n",
      "2                       GARE DE LYON  27034653\n",
      "3                CHATELET-LES HALLES  22227016\n",
      "4                       SAINT-LAZARE  17780830\n",
      "5                       MONTPARNASSE  15635869\n",
      "6                             NATION  13806030\n",
      "7                      GARE DE L'EST  13518664\n",
      "8           CHARLES DE GAULLE ETOILE  10730798\n",
      "9                              AUBER  10419879\n",
      "10  BIBLIOTHEQUE FRANCOIS MITTERRAND  10199704\n",
      "11                 DENFERT-ROCHEREAU   8476819\n",
      "12            HAUSSMANN-SAINT-LAZARE   7442626\n",
      "13                        REPUBLIQUE   7147580\n",
      "14                        LES HALLES   6897957\n",
      "15                       LA CHAPELLE   6459788\n",
      "16                        AUSTERLITZ   6256202\n",
      "17                       SAINT-DENIS   5173856\n",
      "18                          BASTILLE   5003608\n",
      "19           SAINT-MICHEL NOTRE DAME   4904789\n"
     ]
    }
   ],
   "source": [
    "# regrouper la somme du nombre de validation par arrêt\n",
    "dq=df1.groupby(['LIBELLE_ARRET']).sum()\n",
    "#Ranger par ordre décroissant le nombre de valisation par arrêt\n",
    "dqq=dq.sort_values(by = 'NB_VALD', ascending = False)[0:20]\n",
    "#indexer mon nouveau dataframe pour avoir un bon, mieux présenté\n",
    "dqq.reset_index(0, inplace=True)\n",
    "print(dqq)"
   ]
  },
  {
   "cell_type": "markdown",
   "metadata": {},
   "source": [
    "#### Q2) Une illustraion graphique de ce classement"
   ]
  },
  {
   "cell_type": "code",
   "execution_count": 9,
   "metadata": {},
   "outputs": [
    {
     "data": {
      "image/png": "[encoded data removed]",
      "text/plain": [
       "<Figure size 720x432 with 1 Axes>"
      ]
     },
     "metadata": {
      "needs_background": "light"
     },
     "output_type": "display_data"
    }
   ],
   "source": [
    "plt.figure(figsize=(10,6))\n",
    "sns.barplot(x=dqq['LIBELLE_ARRET'], y=dqq['NB_VALD'], palette=\"Reds_r\")\n",
    "plt.xlabel('\\nLibellés Arrêts', fontsize=15, color='#c0392b')\n",
    "plt.ylabel(\"Nombre de validation\\n\", fontsize=15, color='#c0392b')\n",
    "plt.title(\"Nombre de validation par arrêts Sncf\\n\", fontsize=18, color='#e74c3c')\n",
    "plt.xticks(rotation= 45)\n",
    "plt.tight_layout()"
   ]
  }
 ],
 "metadata": {
  "kernelspec": {
   "display_name": "Python 3",
   "language": "python",
   "name": "python3"
  },
  "language_info": {
   "codemirror_mode": {
    "name": "ipython",
    "version": 3
   },
   "file_extension": ".py",
   "mimetype": "text/x-python",
   "name": "python",
   "nbconvert_exporter": "python",
   "pygments_lexer": "ipython3",
   "version": "3.8.3"
  }
 },
 "nbformat": 4,
 "nbformat_minor": 4
}
