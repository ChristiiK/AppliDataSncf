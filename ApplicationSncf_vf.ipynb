{
 "cells": [
  {
   "cell_type": "code",
   "execution_count": 1,
   "metadata": {},
   "outputs": [],
   "source": [
    "import numpy as np\n",
    "import matplotlib.pyplot as plt\n",
    "import pandas as pd"
   ]
  },
  {
   "cell_type": "code",
   "execution_count": 2,
   "metadata": {},
   "outputs": [],
   "source": [
    "df = pd.read_excel(\"C:/Users/KOUADIO Christiane/Documents/Traitement_données/donnees_sncf.xlsx\")"
   ]
  },
  {
   "cell_type": "code",
   "execution_count": 4,
   "metadata": {},
   "outputs": [
    {
     "data": {
      "text/html": [
       "<div>\n",
       "<style scoped>\n",
       "    .dataframe tbody tr th:only-of-type {\n",
       "        vertical-align: middle;\n",
       "    }\n",
       "\n",
       "    .dataframe tbody tr th {\n",
       "        vertical-align: top;\n",
       "    }\n",
       "\n",
       "    .dataframe thead th {\n",
       "        text-align: right;\n",
       "    }\n",
       "</style>\n",
       "<table border=\"1\" class=\"dataframe\">\n",
       "  <thead>\n",
       "    <tr style=\"text-align: right;\">\n",
       "      <th></th>\n",
       "      <th>JOUR</th>\n",
       "      <th>CODE_STIF_TRNS</th>\n",
       "      <th>CODE_STIF_RES</th>\n",
       "      <th>CODE_STIF_ARRET</th>\n",
       "      <th>LIBELLE_ARRET</th>\n",
       "      <th>ID_REFA_LDA</th>\n",
       "      <th>CATEGORIE_TITRE</th>\n",
       "      <th>NB_VALD</th>\n",
       "    </tr>\n",
       "  </thead>\n",
       "  <tbody>\n",
       "    <tr>\n",
       "      <th>0</th>\n",
       "      <td>2019-01-14</td>\n",
       "      <td>800</td>\n",
       "      <td>854</td>\n",
       "      <td>82</td>\n",
       "      <td>BOIS-COLOMBES</td>\n",
       "      <td>72179.0</td>\n",
       "      <td>IMAGINE R</td>\n",
       "      <td>907</td>\n",
       "    </tr>\n",
       "    <tr>\n",
       "      <th>1</th>\n",
       "      <td>2019-01-14</td>\n",
       "      <td>800</td>\n",
       "      <td>854</td>\n",
       "      <td>82</td>\n",
       "      <td>BOIS-COLOMBES</td>\n",
       "      <td>72179.0</td>\n",
       "      <td>TST</td>\n",
       "      <td>233</td>\n",
       "    </tr>\n",
       "    <tr>\n",
       "      <th>2</th>\n",
       "      <td>2019-01-14</td>\n",
       "      <td>800</td>\n",
       "      <td>854</td>\n",
       "      <td>831</td>\n",
       "      <td>SAINT-NOM-LA-BRETECHE-FORET-DE-MARLY</td>\n",
       "      <td>64382.0</td>\n",
       "      <td>AMETHYSTE</td>\n",
       "      <td>4</td>\n",
       "    </tr>\n",
       "    <tr>\n",
       "      <th>3</th>\n",
       "      <td>2019-01-14</td>\n",
       "      <td>800</td>\n",
       "      <td>854</td>\n",
       "      <td>831</td>\n",
       "      <td>SAINT-NOM-LA-BRETECHE-FORET-DE-MARLY</td>\n",
       "      <td>64382.0</td>\n",
       "      <td>NAVIGO</td>\n",
       "      <td>536</td>\n",
       "    </tr>\n",
       "    <tr>\n",
       "      <th>4</th>\n",
       "      <td>2019-01-14</td>\n",
       "      <td>800</td>\n",
       "      <td>854</td>\n",
       "      <td>831</td>\n",
       "      <td>SAINT-NOM-LA-BRETECHE-FORET-DE-MARLY</td>\n",
       "      <td>64382.0</td>\n",
       "      <td>TST</td>\n",
       "      <td>9</td>\n",
       "    </tr>\n",
       "  </tbody>\n",
       "</table>\n",
       "</div>"
      ],
      "text/plain": [
       "        JOUR  CODE_STIF_TRNS CODE_STIF_RES CODE_STIF_ARRET  \\\n",
       "0 2019-01-14             800           854              82   \n",
       "1 2019-01-14             800           854              82   \n",
       "2 2019-01-14             800           854             831   \n",
       "3 2019-01-14             800           854             831   \n",
       "4 2019-01-14             800           854             831   \n",
       "\n",
       "                          LIBELLE_ARRET  ID_REFA_LDA CATEGORIE_TITRE  NB_VALD  \n",
       "0                         BOIS-COLOMBES      72179.0       IMAGINE R      907  \n",
       "1                         BOIS-COLOMBES      72179.0             TST      233  \n",
       "2  SAINT-NOM-LA-BRETECHE-FORET-DE-MARLY      64382.0       AMETHYSTE        4  \n",
       "3  SAINT-NOM-LA-BRETECHE-FORET-DE-MARLY      64382.0          NAVIGO      536  \n",
       "4  SAINT-NOM-LA-BRETECHE-FORET-DE-MARLY      64382.0             TST        9  "
      ]
     },
     "execution_count": 4,
     "metadata": {},
     "output_type": "execute_result"
    }
   ],
   "source": [
    "df.head()"
   ]
  },
  {
   "cell_type": "code",
   "execution_count": 5,
   "metadata": {},
   "outputs": [
    {
     "data": {
      "text/plain": [
       "(940549, 8)"
      ]
     },
     "execution_count": 5,
     "metadata": {},
     "output_type": "execute_result"
    }
   ],
   "source": [
    "df.shape"
   ]
  },
  {
   "cell_type": "code",
   "execution_count": 6,
   "metadata": {},
   "outputs": [
    {
     "data": {
      "text/html": [
       "<div>\n",
       "<style scoped>\n",
       "    .dataframe tbody tr th:only-of-type {\n",
       "        vertical-align: middle;\n",
       "    }\n",
       "\n",
       "    .dataframe tbody tr th {\n",
       "        vertical-align: top;\n",
       "    }\n",
       "\n",
       "    .dataframe thead th {\n",
       "        text-align: right;\n",
       "    }\n",
       "</style>\n",
       "<table border=\"1\" class=\"dataframe\">\n",
       "  <thead>\n",
       "    <tr style=\"text-align: right;\">\n",
       "      <th></th>\n",
       "      <th>CODE_STIF_TRNS</th>\n",
       "      <th>ID_REFA_LDA</th>\n",
       "      <th>NB_VALD</th>\n",
       "    </tr>\n",
       "  </thead>\n",
       "  <tbody>\n",
       "    <tr>\n",
       "      <th>count</th>\n",
       "      <td>940549.000000</td>\n",
       "      <td>928344.000000</td>\n",
       "      <td>940549.000000</td>\n",
       "    </tr>\n",
       "    <tr>\n",
       "      <th>mean</th>\n",
       "      <td>487.402443</td>\n",
       "      <td>71760.276284</td>\n",
       "      <td>1042.398621</td>\n",
       "    </tr>\n",
       "    <tr>\n",
       "      <th>std</th>\n",
       "      <td>349.303902</td>\n",
       "      <td>29543.625366</td>\n",
       "      <td>4039.458158</td>\n",
       "    </tr>\n",
       "    <tr>\n",
       "      <th>min</th>\n",
       "      <td>100.000000</td>\n",
       "      <td>59403.000000</td>\n",
       "      <td>4.000000</td>\n",
       "    </tr>\n",
       "    <tr>\n",
       "      <th>25%</th>\n",
       "      <td>100.000000</td>\n",
       "      <td>66659.000000</td>\n",
       "      <td>12.000000</td>\n",
       "    </tr>\n",
       "    <tr>\n",
       "      <th>50%</th>\n",
       "      <td>800.000000</td>\n",
       "      <td>71144.000000</td>\n",
       "      <td>109.000000</td>\n",
       "    </tr>\n",
       "    <tr>\n",
       "      <th>75%</th>\n",
       "      <td>800.000000</td>\n",
       "      <td>71756.000000</td>\n",
       "      <td>529.000000</td>\n",
       "    </tr>\n",
       "    <tr>\n",
       "      <th>max</th>\n",
       "      <td>810.000000</td>\n",
       "      <td>415852.000000</td>\n",
       "      <td>130809.000000</td>\n",
       "    </tr>\n",
       "  </tbody>\n",
       "</table>\n",
       "</div>"
      ],
      "text/plain": [
       "       CODE_STIF_TRNS    ID_REFA_LDA        NB_VALD\n",
       "count   940549.000000  928344.000000  940549.000000\n",
       "mean       487.402443   71760.276284    1042.398621\n",
       "std        349.303902   29543.625366    4039.458158\n",
       "min        100.000000   59403.000000       4.000000\n",
       "25%        100.000000   66659.000000      12.000000\n",
       "50%        800.000000   71144.000000     109.000000\n",
       "75%        800.000000   71756.000000     529.000000\n",
       "max        810.000000  415852.000000  130809.000000"
      ]
     },
     "execution_count": 6,
     "metadata": {},
     "output_type": "execute_result"
    }
   ],
   "source": [
    "df.describe()"
   ]
  },
  {
   "cell_type": "code",
   "execution_count": 110,
   "metadata": {},
   "outputs": [],
   "source": [
    "# Les 20 premières stations en terme de validations sont : pour répondre à cette question, nous allons classer par \n",
    "#ordre décroissante le df sur la serie \"NB_VALD\"\n",
    "df1=df.sort_values(by = 'NB_VALD', ascending = False)"
   ]
  },
  {
   "cell_type": "code",
   "execution_count": 112,
   "metadata": {},
   "outputs": [],
   "source": [
    "dQ1=df1.drop(columns=['JOUR','CODE_STIF_TRNS','ID_REFA_LDA','CODE_STIF_RES','CODE_STIF_ARRET','CATEGORIE_TITRE'])[0:20]"
   ]
  },
  {
   "cell_type": "code",
   "execution_count": 113,
   "metadata": {},
   "outputs": [
    {
     "name": "stdout",
     "output_type": "stream",
     "text": [
      "                  LIBELLE_ARRET  NB_VALD\n",
      "143952             GARE DE LYON   130809\n",
      "819519             GARE DE LYON   129274\n",
      "707835             GARE DE LYON   129047\n",
      "632391             GARE DE LYON   128860\n",
      "74055              GARE DE LYON   128620\n",
      "80585              GARE DE LYON   128133\n",
      "413371             GARE DE LYON   128071\n",
      "429165             GARE DE LYON   127981\n",
      "255806             GARE DE LYON   127569\n",
      "141986  LA DEFENSE-GRANDE ARCHE   127535\n",
      "657589  LA DEFENSE-GRANDE ARCHE   126676\n",
      "119752             GARE DE LYON   126545\n",
      "156593             GARE DE LYON   126450\n",
      "872961             GARE DE LYON   126449\n",
      "651233  LA DEFENSE-GRANDE ARCHE   126203\n",
      "675598             GARE DE LYON   126153\n",
      "887571             GARE DE LYON   125873\n",
      "23830              GARE DE LYON   125638\n",
      "212449             GARE DE LYON   125608\n",
      "654640  LA DEFENSE-GRANDE ARCHE   125577\n"
     ]
    }
   ],
   "source": [
    "#Q1) les 20 premières stations par validation\n",
    "print(dQ1)"
   ]
  },
  {
   "cell_type": "code",
   "execution_count": 114,
   "metadata": {},
   "outputs": [
    {
     "data": {
      "text/plain": [
       "<matplotlib.axes._subplots.AxesSubplot at 0x25a622d5940>"
      ]
     },
     "execution_count": 114,
     "metadata": {},
     "output_type": "execute_result"
    },
    {
     "data": {
      "image/png": "[encoded data removed]",
      "text/plain": [
       "<Figure size 432x288 with 1 Axes>"
      ]
     },
     "metadata": {
      "needs_background": "light"
     },
     "output_type": "display_data"
    }
   ],
   "source": [
    "#Q2) Illustraton graphique de ce classement\n",
    "dQ1.plot.scatter(x='LIBELLE_ARRET', y='NB_VALD')"
   ]
  },
  {
   "cell_type": "code",
   "execution_count": null,
   "metadata": {},
   "outputs": [],
   "source": [
    "import seaborn as sns"
   ]
  }
 ],
 "metadata": {
  "kernelspec": {
   "display_name": "Python 3",
   "language": "python",
   "name": "python3"
  },
  "language_info": {
   "codemirror_mode": {
    "name": "ipython",
    "version": 3
   },
   "file_extension": ".py",
   "mimetype": "text/x-python",
   "name": "python",
   "nbconvert_exporter": "python",
   "pygments_lexer": "ipython3",
   "version": "3.8.3"
  }
 },
 "nbformat": 4,
 "nbformat_minor": 4
}
